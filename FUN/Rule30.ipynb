{
 "cells": [
  {
   "cell_type": "markdown",
   "metadata": {},
   "source": [
    "# Rule 30 Implementation\n",
    "\n",
    "\n",
    "Python Implementation of Rule30.\n",
    "\n",
    "\n",
    "Rule:\n",
    "\n",
    "\n",
    "\n",
    "![Rule Implementation](./rule30.png)\n",
    "\n"
   ]
  },
  {
   "cell_type": "code",
   "execution_count": 5,
   "metadata": {},
   "outputs": [],
   "source": [
    "import numpy as np\n",
    "import pandas as pd\n",
    "import matplotlib.pyplot as plt"
   ]
  },
  {
   "cell_type": "markdown",
   "metadata": {},
   "source": [
    "## Define the Rule Dictionary"
   ]
  },
  {
   "cell_type": "markdown",
   "metadata": {},
   "source": [
    "## Compute Rule 30"
   ]
  },
  {
   "cell_type": "code",
   "execution_count": 112,
   "metadata": {},
   "outputs": [],
   "source": [
    "class Compute_Rule30:\n",
    "    \n",
    "    def __init__(self, half_length, iterations):\n",
    "        self.hl = half_length\n",
    "        self.iters = iterations\n",
    "        self.current_row = np.hstack([np.zeros(half_length), 1, np.zeros(half_length)])\n",
    "        self.rules = {'111':0, '110':0, '101':0, '100':1, '011':1, '010':1, '001':1, '000':0}\n",
    "        self.data = []\n",
    "        \n",
    "        \n",
    "    def run_compute(self):\n",
    "        sep = ''\n",
    "        current_row = self.current_row\n",
    "        data = []\n",
    "        \n",
    "                \n",
    "        for it in range(self.iters):\n",
    "            next_row = np.array([])\n",
    "\n",
    "            for i in range(len(current_row)):\n",
    "                c1, c2, c3 = 0,0,0\n",
    "\n",
    "                if i == 0:\n",
    "                    c1 = 0\n",
    "                    c2 = current_row[i]\n",
    "                    c3 = current_row[i+1]\n",
    "\n",
    "                elif i == (len(current_row)-1):\n",
    "                    c1 = current_row[i-1]\n",
    "                    c2 = current_row[i]\n",
    "                    c3 = 0\n",
    "\n",
    "                else:\n",
    "                    c1 = current_row[i-1]\n",
    "                    c2 = current_row[i]\n",
    "                    c3 = current_row[i+1]\n",
    "\n",
    "                key = sep.join(list(map(str,[int(c1),int(c2),int(c3)])))\n",
    "                next_row = np.append(next_row, self.rules[key])\n",
    "\n",
    "            data.append(next_row)\n",
    "            current_row = next_row\n",
    "        \n",
    "        self.data = data"
   ]
  },
  {
   "cell_type": "code",
   "execution_count": 121,
   "metadata": {},
   "outputs": [
    {
     "data": {
      "text/plain": [
       "[array([0., 0., 0., 0., 0., 0., 0., 0., 0., 1., 1., 1., 0., 0., 0., 0., 0.,\n",
       "        0., 0., 0., 0.]),\n",
       " array([0., 0., 0., 0., 0., 0., 0., 0., 1., 1., 0., 0., 1., 0., 0., 0., 0.,\n",
       "        0., 0., 0., 0.]),\n",
       " array([0., 0., 0., 0., 0., 0., 0., 1., 1., 0., 1., 1., 1., 1., 0., 0., 0.,\n",
       "        0., 0., 0., 0.]),\n",
       " array([0., 0., 0., 0., 0., 0., 1., 1., 0., 0., 1., 0., 0., 0., 1., 0., 0.,\n",
       "        0., 0., 0., 0.]),\n",
       " array([0., 0., 0., 0., 0., 1., 1., 0., 1., 1., 1., 1., 0., 1., 1., 1., 0.,\n",
       "        0., 0., 0., 0.]),\n",
       " array([0., 0., 0., 0., 1., 1., 0., 0., 1., 0., 0., 0., 0., 1., 0., 0., 1.,\n",
       "        0., 0., 0., 0.]),\n",
       " array([0., 0., 0., 1., 1., 0., 1., 1., 1., 1., 0., 0., 1., 1., 1., 1., 1.,\n",
       "        1., 0., 0., 0.]),\n",
       " array([0., 0., 1., 1., 0., 0., 1., 0., 0., 0., 1., 1., 1., 0., 0., 0., 0.,\n",
       "        0., 1., 0., 0.]),\n",
       " array([0., 1., 1., 0., 1., 1., 1., 1., 0., 1., 1., 0., 0., 1., 0., 0., 0.,\n",
       "        1., 1., 1., 0.]),\n",
       " array([1., 1., 0., 0., 1., 0., 0., 0., 0., 1., 0., 1., 1., 1., 1., 0., 1.,\n",
       "        1., 0., 0., 1.])]"
      ]
     },
     "execution_count": 121,
     "metadata": {},
     "output_type": "execute_result"
    }
   ],
   "source": [
    "cr = Compute_Rule30(10,10)\n",
    "cr.data\n",
    "cr.run_compute()\n",
    "cr.data"
   ]
  },
  {
   "cell_type": "code",
   "execution_count": 7,
   "metadata": {},
   "outputs": [],
   "source": []
  },
  {
   "cell_type": "code",
   "execution_count": 102,
   "metadata": {},
   "outputs": [],
   "source": []
  },
  {
   "cell_type": "code",
   "execution_count": null,
   "metadata": {},
   "outputs": [],
   "source": []
  },
  {
   "cell_type": "code",
   "execution_count": null,
   "metadata": {},
   "outputs": [],
   "source": []
  },
  {
   "cell_type": "code",
   "execution_count": null,
   "metadata": {},
   "outputs": [],
   "source": []
  }
 ],
 "metadata": {
  "kernelspec": {
   "display_name": "Python 3",
   "language": "python",
   "name": "python3"
  },
  "language_info": {
   "codemirror_mode": {
    "name": "ipython",
    "version": 3
   },
   "file_extension": ".py",
   "mimetype": "text/x-python",
   "name": "python",
   "nbconvert_exporter": "python",
   "pygments_lexer": "ipython3",
   "version": "3.7.4"
  }
 },
 "nbformat": 4,
 "nbformat_minor": 2
}
