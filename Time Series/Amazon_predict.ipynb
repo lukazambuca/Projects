{
 "cells": [
  {
   "cell_type": "markdown",
   "metadata": {},
   "source": [
    "# Attempting to predict Amazons's stock price with a LSTM network\n",
    "If we could predict stock prices we'd all be billionaires. Unfortunately, it's extremely difficult to accurately predict the future, especially when humans are involved. Luckily for us, machine learning has come a long way in the recent decade with new improvements such as the Long Short-Term Memory (LSTM) network. LSTMs are essentially an improved version of recurrent neural networks (RNNs). For a technical explanation you can check out this link (https://towardsdatascience.com/illustrated-guide-to-lstms-and-gru-s-a-step-by-step-explanation-44e9eb85bf21).\n",
    "We shall use this network because of its property in selectively remembering patterns for long durations of time. LSTM is relatively good in making predictions based on time series data, since there can be lags of unknown duration between important events in a time series (which happens all the time in the stock market).\n"
   ]
  },
  {
   "cell_type": "markdown",
   "metadata": {},
   "source": [
    "## Downloading the data \n",
    "I will be using Amazon's historic monthly stock price, which can be downloaded at the link: https://finance.yahoo.com/quote/AMZN/history?period1=1391904000&period2=1581206400&interval=1mo&filter=history&frequency=1mo.\n",
    "Yahoo finance has various other stocks to choose from."
   ]
  },
  {
   "cell_type": "code",
   "execution_count": 1,
   "metadata": {},
   "outputs": [
    {
     "name": "stderr",
     "output_type": "stream",
     "text": [
      "Using TensorFlow backend.\n"
     ]
    }
   ],
   "source": [
    "import keras"
   ]
  },
  {
   "cell_type": "code",
   "execution_count": 2,
   "metadata": {},
   "outputs": [],
   "source": [
    "import numpy as np\n",
    "import pandas as pd\n",
    "import matplotlib.pyplot as plt\n",
    "%matplotlib inline\n",
    "from statsmodels.tools.eval_measures import rmse\n",
    "from sklearn.preprocessing import MinMaxScaler\n",
    "from keras.preprocessing.sequence import TimeseriesGenerator\n",
    "from keras.models import Sequential\n",
    "from keras.layers import Dense\n",
    "from keras.layers import LSTM\n",
    "from keras.layers import Dropout\n",
    "import warnings\n",
    "warnings.filterwarnings(\"ignore\")"
   ]
  },
  {
   "cell_type": "markdown",
   "metadata": {},
   "source": [
    "Now it's time to import the dataset and view it. We do so using the pandas library and its read_csv function."
   ]
  },
  {
   "cell_type": "code",
   "execution_count": 218,
   "metadata": {},
   "outputs": [
    {
     "data": {
      "text/html": [
       "<div>\n",
       "<style scoped>\n",
       "    .dataframe tbody tr th:only-of-type {\n",
       "        vertical-align: middle;\n",
       "    }\n",
       "\n",
       "    .dataframe tbody tr th {\n",
       "        vertical-align: top;\n",
       "    }\n",
       "\n",
       "    .dataframe thead th {\n",
       "        text-align: right;\n",
       "    }\n",
       "</style>\n",
       "<table border=\"1\" class=\"dataframe\">\n",
       "  <thead>\n",
       "    <tr style=\"text-align: right;\">\n",
       "      <th></th>\n",
       "      <th>Date</th>\n",
       "      <th>Open</th>\n",
       "      <th>High</th>\n",
       "      <th>Low</th>\n",
       "      <th>Close</th>\n",
       "      <th>Adj Close</th>\n",
       "      <th>Volume</th>\n",
       "    </tr>\n",
       "  </thead>\n",
       "  <tbody>\n",
       "    <tr>\n",
       "      <td>0</td>\n",
       "      <td>2014-03-01</td>\n",
       "      <td>358.739990</td>\n",
       "      <td>383.109985</td>\n",
       "      <td>330.880005</td>\n",
       "      <td>336.369995</td>\n",
       "      <td>336.369995</td>\n",
       "      <td>75253500</td>\n",
       "    </tr>\n",
       "    <tr>\n",
       "      <td>1</td>\n",
       "      <td>2014-04-01</td>\n",
       "      <td>338.089996</td>\n",
       "      <td>348.299988</td>\n",
       "      <td>288.000000</td>\n",
       "      <td>304.130005</td>\n",
       "      <td>304.130005</td>\n",
       "      <td>138278700</td>\n",
       "    </tr>\n",
       "    <tr>\n",
       "      <td>2</td>\n",
       "      <td>2014-05-01</td>\n",
       "      <td>304.130005</td>\n",
       "      <td>314.869995</td>\n",
       "      <td>284.380005</td>\n",
       "      <td>312.549988</td>\n",
       "      <td>312.549988</td>\n",
       "      <td>78579200</td>\n",
       "    </tr>\n",
       "    <tr>\n",
       "      <td>3</td>\n",
       "      <td>2014-06-01</td>\n",
       "      <td>312.589996</td>\n",
       "      <td>340.720001</td>\n",
       "      <td>303.839996</td>\n",
       "      <td>324.779999</td>\n",
       "      <td>324.779999</td>\n",
       "      <td>76580100</td>\n",
       "    </tr>\n",
       "    <tr>\n",
       "      <td>4</td>\n",
       "      <td>2014-07-01</td>\n",
       "      <td>325.859985</td>\n",
       "      <td>364.850006</td>\n",
       "      <td>311.859985</td>\n",
       "      <td>312.989990</td>\n",
       "      <td>312.989990</td>\n",
       "      <td>99426000</td>\n",
       "    </tr>\n",
       "  </tbody>\n",
       "</table>\n",
       "</div>"
      ],
      "text/plain": [
       "         Date        Open        High         Low       Close   Adj Close  \\\n",
       "0  2014-03-01  358.739990  383.109985  330.880005  336.369995  336.369995   \n",
       "1  2014-04-01  338.089996  348.299988  288.000000  304.130005  304.130005   \n",
       "2  2014-05-01  304.130005  314.869995  284.380005  312.549988  312.549988   \n",
       "3  2014-06-01  312.589996  340.720001  303.839996  324.779999  324.779999   \n",
       "4  2014-07-01  325.859985  364.850006  311.859985  312.989990  312.989990   \n",
       "\n",
       "      Volume  \n",
       "0   75253500  \n",
       "1  138278700  \n",
       "2   78579200  \n",
       "3   76580100  \n",
       "4   99426000  "
      ]
     },
     "execution_count": 218,
     "metadata": {},
     "output_type": "execute_result"
    }
   ],
   "source": [
    "data = pd.read_csv('/Users/lukabeverin/Downloads/AMZN-5.csv')\n",
    "#head is used to view the first 5 observations\n",
    "data.head()"
   ]
  },
  {
   "cell_type": "markdown",
   "metadata": {},
   "source": [
    "As a future billionaire, I'm only interested in the Close price. Also, I need to set the Date as the index for the dataframe. Let's do that."
   ]
  },
  {
   "cell_type": "code",
   "execution_count": 219,
   "metadata": {},
   "outputs": [
    {
     "data": {
      "text/html": [
       "<div>\n",
       "<style scoped>\n",
       "    .dataframe tbody tr th:only-of-type {\n",
       "        vertical-align: middle;\n",
       "    }\n",
       "\n",
       "    .dataframe tbody tr th {\n",
       "        vertical-align: top;\n",
       "    }\n",
       "\n",
       "    .dataframe thead th {\n",
       "        text-align: right;\n",
       "    }\n",
       "</style>\n",
       "<table border=\"1\" class=\"dataframe\">\n",
       "  <thead>\n",
       "    <tr style=\"text-align: right;\">\n",
       "      <th></th>\n",
       "      <th>Close</th>\n",
       "    </tr>\n",
       "    <tr>\n",
       "      <th>Date</th>\n",
       "      <th></th>\n",
       "    </tr>\n",
       "  </thead>\n",
       "  <tbody>\n",
       "    <tr>\n",
       "      <td>2014-03-01</td>\n",
       "      <td>336.369995</td>\n",
       "    </tr>\n",
       "    <tr>\n",
       "      <td>2014-04-01</td>\n",
       "      <td>304.130005</td>\n",
       "    </tr>\n",
       "    <tr>\n",
       "      <td>2014-05-01</td>\n",
       "      <td>312.549988</td>\n",
       "    </tr>\n",
       "    <tr>\n",
       "      <td>2014-06-01</td>\n",
       "      <td>324.779999</td>\n",
       "    </tr>\n",
       "    <tr>\n",
       "      <td>2014-07-01</td>\n",
       "      <td>312.989990</td>\n",
       "    </tr>\n",
       "  </tbody>\n",
       "</table>\n",
       "</div>"
      ],
      "text/plain": [
       "                 Close\n",
       "Date                  \n",
       "2014-03-01  336.369995\n",
       "2014-04-01  304.130005\n",
       "2014-05-01  312.549988\n",
       "2014-06-01  324.779999\n",
       "2014-07-01  312.989990"
      ]
     },
     "execution_count": 219,
     "metadata": {},
     "output_type": "execute_result"
    }
   ],
   "source": [
    "df = data[['Date','Close']]\n",
    "df.Date = pd.to_datetime(df.Date)\n",
    "df = df.set_index(\"Date\")\n",
    "df.head()"
   ]
  },
  {
   "cell_type": "markdown",
   "metadata": {},
   "source": [
    "Now in order to see how well our model does, we have to split our data into a training and testing set. The algorithm will use 80% of the data to train itself and then see how well it does against the remaining 20% (which is the test data). "
   ]
  },
  {
   "cell_type": "code",
   "execution_count": 220,
   "metadata": {},
   "outputs": [
    {
     "name": "stdout",
     "output_type": "stream",
     "text": [
      "58 15\n"
     ]
    }
   ],
   "source": [
    "train_size = int(len(df) * 0.8)\n",
    "test_size = len(df) - train_size\n",
    "train, test = df.iloc[0:train_size], df.iloc[train_size:len(df)]\n",
    "print(len(train), len(test))"
   ]
  },
  {
   "cell_type": "markdown",
   "metadata": {},
   "source": [
    "So we have 58 data points that will be trained and tested against the remaining 15 points. It's not a lot by any means, but it's enough for the purpose of this demo. "
   ]
  },
  {
   "cell_type": "markdown",
   "metadata": {},
   "source": [
    "Next we need to normalise our data. The goal of normalization is to change the values of numeric columns in the dataset to a common scale, without distorting differences in the ranges of values. Normalizing data helps the algorithm in converging i.e. to find local/ global minimum efficiently. Click on this link to understand the difference that normalization makes in neural networks ( https://medium.com/@urvashilluniya/why-data-normalization-is-necessary-for-machine-learning-models-681b65a05029 ). I will use MinMaxScaler from the Sci-kit Learn library."
   ]
  },
  {
   "cell_type": "code",
   "execution_count": 221,
   "metadata": {},
   "outputs": [],
   "source": [
    "scaler = MinMaxScaler()\n",
    "scaler.fit(train)\n",
    "train = scaler.transform(train)\n",
    "test = scaler.transform(test)"
   ]
  },
  {
   "cell_type": "markdown",
   "metadata": {},
   "source": [
    "In the next few cells we will do the following create an empty list for each of our 12 predictions.\n",
    "Also create the batch that our model will predict from. Then we save the prediction to our list.\n",
    "Finally add the prediction to the end of the batch to be used in the next prediction. LSTMs consume input in format [ batch_size, time_steps, Features ]; a 3- dimensional array.\n",
    "\n",
    "The TimeseriesGenerator class takes in a sequence of data-points gathered at equal intervals, along with time series parameters such as stride, length of history, etc., to produce batches for training/validation.\n",
    "\n",
    "n_input is the length of the output sequences (in number of timesteps).\n",
    "\n",
    "The batch size is a hyperparameter that defines the number of samples to work through before updating the internal model parameters. "
   ]
  },
  {
   "cell_type": "code",
   "execution_count": 222,
   "metadata": {},
   "outputs": [],
   "source": [
    "n_input = 12\n",
    "n_features = 1\n",
    "generator = TimeseriesGenerator(train, train, length=n_input, batch_size=6)"
   ]
  },
  {
   "cell_type": "markdown",
   "metadata": {},
   "source": [
    "## The LSTM model\n",
    "The LSTM model is implemented below. It is a fairly simple model to make use of. Note that we use the Mean squared error as the parameter that we would like to minimise. There are resources on how to fine tune your hyperparameters such as the batch size and epoch, but we won't go into that. If you're interested, read up on it and see if you can improve this model. "
   ]
  },
  {
   "cell_type": "code",
   "execution_count": 223,
   "metadata": {},
   "outputs": [],
   "source": [
    "model = Sequential()\n",
    "model.add(LSTM(200, activation='relu', input_shape=(n_input, n_features)))\n",
    "model.add(Dropout(0.15))\n",
    "model.add(Dense(1))\n",
    "model.compile(optimizer='adam', loss='mse')"
   ]
  },
  {
   "cell_type": "markdown",
   "metadata": {},
   "source": [
    "Now we fit our model with an epoch value. The number of epochs is a hyperparameter that defines the number times that the learning algorithm will work through the entire training dataset. The number of epochs is traditionally large, allowing the learning algorithm to run until the error from the model has been sufficiently minimized. But not too large, otherwise we risk overfitting. Check out this link that describes batch size and epochs in a very intuitive way (https://machinelearningmastery.com/difference-between-a-batch-and-an-epoch/)"
   ]
  },
  {
   "cell_type": "code",
   "execution_count": 240,
   "metadata": {},
   "outputs": [
    {
     "name": "stdout",
     "output_type": "stream",
     "text": [
      "Epoch 1/100\n",
      "11/11 [==============================] - 0s 20ms/step - loss: 0.0079\n",
      "Epoch 2/100\n",
      "11/11 [==============================] - 0s 23ms/step - loss: 0.0080\n",
      "Epoch 3/100\n",
      "11/11 [==============================] - 0s 20ms/step - loss: 0.0101\n",
      "Epoch 4/100\n",
      "11/11 [==============================] - 0s 18ms/step - loss: 0.0085\n",
      "Epoch 5/100\n",
      "11/11 [==============================] - 0s 19ms/step - loss: 0.0054\n",
      "Epoch 6/100\n",
      "11/11 [==============================] - 0s 17ms/step - loss: 0.0047\n",
      "Epoch 7/100\n",
      "11/11 [==============================] - 0s 16ms/step - loss: 0.0058\n",
      "Epoch 8/100\n",
      "11/11 [==============================] - 0s 17ms/step - loss: 0.0062\n",
      "Epoch 9/100\n",
      "11/11 [==============================] - 0s 17ms/step - loss: 0.0074\n",
      "Epoch 10/100\n",
      "11/11 [==============================] - 0s 16ms/step - loss: 0.0070\n",
      "Epoch 11/100\n",
      "11/11 [==============================] - 0s 17ms/step - loss: 0.0053\n",
      "Epoch 12/100\n",
      "11/11 [==============================] - 0s 16ms/step - loss: 0.0046\n",
      "Epoch 13/100\n",
      "11/11 [==============================] - 0s 17ms/step - loss: 0.0063\n",
      "Epoch 14/100\n",
      "11/11 [==============================] - 0s 17ms/step - loss: 0.0056\n",
      "Epoch 15/100\n",
      "11/11 [==============================] - 0s 18ms/step - loss: 0.0058\n",
      "Epoch 16/100\n",
      "11/11 [==============================] - 0s 18ms/step - loss: 0.0059\n",
      "Epoch 17/100\n",
      "11/11 [==============================] - 0s 18ms/step - loss: 0.0045\n",
      "Epoch 18/100\n",
      "11/11 [==============================] - 0s 17ms/step - loss: 0.0105\n",
      "Epoch 19/100\n",
      "11/11 [==============================] - 0s 17ms/step - loss: 0.0056\n",
      "Epoch 20/100\n",
      "11/11 [==============================] - 0s 18ms/step - loss: 0.0055\n",
      "Epoch 21/100\n",
      "11/11 [==============================] - 0s 18ms/step - loss: 0.0064\n",
      "Epoch 22/100\n",
      "11/11 [==============================] - 0s 18ms/step - loss: 0.0084\n",
      "Epoch 23/100\n",
      "11/11 [==============================] - 0s 17ms/step - loss: 0.0075\n",
      "Epoch 24/100\n",
      "11/11 [==============================] - 0s 17ms/step - loss: 0.0070\n",
      "Epoch 25/100\n",
      "11/11 [==============================] - 0s 18ms/step - loss: 0.0053\n",
      "Epoch 26/100\n",
      "11/11 [==============================] - 0s 17ms/step - loss: 0.0039\n",
      "Epoch 27/100\n",
      "11/11 [==============================] - 0s 17ms/step - loss: 0.0054\n",
      "Epoch 28/100\n",
      "11/11 [==============================] - 0s 17ms/step - loss: 0.0067\n",
      "Epoch 29/100\n",
      "11/11 [==============================] - 0s 17ms/step - loss: 0.0055\n",
      "Epoch 30/100\n",
      "11/11 [==============================] - 0s 17ms/step - loss: 0.0062\n",
      "Epoch 31/100\n",
      "11/11 [==============================] - 0s 17ms/step - loss: 0.0052\n",
      "Epoch 32/100\n",
      "11/11 [==============================] - 0s 17ms/step - loss: 0.0049\n",
      "Epoch 33/100\n",
      "11/11 [==============================] - 0s 18ms/step - loss: 0.0083\n",
      "Epoch 34/100\n",
      "11/11 [==============================] - 0s 18ms/step - loss: 0.0051\n",
      "Epoch 35/100\n",
      "11/11 [==============================] - 0s 18ms/step - loss: 0.0055\n",
      "Epoch 36/100\n",
      "11/11 [==============================] - 0s 18ms/step - loss: 0.0049\n",
      "Epoch 37/100\n",
      "11/11 [==============================] - 0s 17ms/step - loss: 0.0040\n",
      "Epoch 38/100\n",
      "11/11 [==============================] - 0s 18ms/step - loss: 0.0047\n",
      "Epoch 39/100\n",
      "11/11 [==============================] - 0s 18ms/step - loss: 0.0054\n",
      "Epoch 40/100\n",
      "11/11 [==============================] - 0s 17ms/step - loss: 0.0047\n",
      "Epoch 41/100\n",
      "11/11 [==============================] - 0s 17ms/step - loss: 0.0070\n",
      "Epoch 42/100\n",
      "11/11 [==============================] - 0s 17ms/step - loss: 0.0054\n",
      "Epoch 43/100\n",
      "11/11 [==============================] - 0s 17ms/step - loss: 0.0053\n",
      "Epoch 44/100\n",
      "11/11 [==============================] - 0s 17ms/step - loss: 0.0058\n",
      "Epoch 45/100\n",
      "11/11 [==============================] - 0s 17ms/step - loss: 0.0050\n",
      "Epoch 46/100\n",
      "11/11 [==============================] - 0s 17ms/step - loss: 0.0043\n",
      "Epoch 47/100\n",
      "11/11 [==============================] - 0s 16ms/step - loss: 0.0052\n",
      "Epoch 48/100\n",
      "11/11 [==============================] - 0s 20ms/step - loss: 0.0042\n",
      "Epoch 49/100\n",
      "11/11 [==============================] - 0s 18ms/step - loss: 0.0051\n",
      "Epoch 50/100\n",
      "11/11 [==============================] - 0s 18ms/step - loss: 0.0041\n",
      "Epoch 51/100\n",
      "11/11 [==============================] - 0s 19ms/step - loss: 0.0050\n",
      "Epoch 52/100\n",
      "11/11 [==============================] - 0s 19ms/step - loss: 0.0044\n",
      "Epoch 53/100\n",
      "11/11 [==============================] - 0s 17ms/step - loss: 0.0078\n",
      "Epoch 54/100\n",
      "11/11 [==============================] - 0s 17ms/step - loss: 0.0061\n",
      "Epoch 55/100\n",
      "11/11 [==============================] - 0s 17ms/step - loss: 0.0054\n",
      "Epoch 56/100\n",
      "11/11 [==============================] - 0s 16ms/step - loss: 0.0069\n",
      "Epoch 57/100\n",
      "11/11 [==============================] - 0s 17ms/step - loss: 0.0038\n",
      "Epoch 58/100\n",
      "11/11 [==============================] - 0s 17ms/step - loss: 0.0046\n",
      "Epoch 59/100\n",
      "11/11 [==============================] - 0s 16ms/step - loss: 0.0072\n",
      "Epoch 60/100\n",
      "11/11 [==============================] - 0s 17ms/step - loss: 0.0099\n",
      "Epoch 61/100\n",
      "11/11 [==============================] - 0s 17ms/step - loss: 0.0089\n",
      "Epoch 62/100\n",
      "11/11 [==============================] - 0s 17ms/step - loss: 0.0064\n",
      "Epoch 63/100\n",
      "11/11 [==============================] - 0s 18ms/step - loss: 0.0057\n",
      "Epoch 64/100\n",
      "11/11 [==============================] - 0s 17ms/step - loss: 0.0049\n",
      "Epoch 65/100\n",
      "11/11 [==============================] - 0s 17ms/step - loss: 0.0050\n",
      "Epoch 66/100\n",
      "11/11 [==============================] - 0s 18ms/step - loss: 0.0053\n",
      "Epoch 67/100\n",
      "11/11 [==============================] - 0s 18ms/step - loss: 0.0050\n",
      "Epoch 68/100\n",
      "11/11 [==============================] - 0s 18ms/step - loss: 0.0067\n",
      "Epoch 69/100\n",
      "11/11 [==============================] - 0s 17ms/step - loss: 0.0077\n",
      "Epoch 70/100\n",
      "11/11 [==============================] - 0s 17ms/step - loss: 0.0056\n",
      "Epoch 71/100\n",
      "11/11 [==============================] - 0s 17ms/step - loss: 0.0051\n",
      "Epoch 72/100\n",
      "11/11 [==============================] - 0s 17ms/step - loss: 0.0069\n",
      "Epoch 73/100\n",
      "11/11 [==============================] - 0s 18ms/step - loss: 0.0077\n",
      "Epoch 74/100\n",
      "11/11 [==============================] - 0s 17ms/step - loss: 0.0054\n",
      "Epoch 75/100\n",
      "11/11 [==============================] - 0s 17ms/step - loss: 0.0054\n",
      "Epoch 76/100\n",
      "11/11 [==============================] - 0s 17ms/step - loss: 0.0069\n",
      "Epoch 77/100\n",
      "11/11 [==============================] - 0s 17ms/step - loss: 0.0052\n",
      "Epoch 78/100\n",
      "11/11 [==============================] - 0s 17ms/step - loss: 0.0040\n",
      "Epoch 79/100\n",
      "11/11 [==============================] - 0s 17ms/step - loss: 0.0059\n",
      "Epoch 80/100\n",
      "11/11 [==============================] - 0s 17ms/step - loss: 0.0031\n",
      "Epoch 81/100\n",
      "11/11 [==============================] - 0s 16ms/step - loss: 0.0038\n",
      "Epoch 82/100\n",
      "11/11 [==============================] - 0s 18ms/step - loss: 0.0056\n",
      "Epoch 83/100\n",
      "11/11 [==============================] - 0s 17ms/step - loss: 0.0053\n",
      "Epoch 84/100\n",
      "11/11 [==============================] - 0s 17ms/step - loss: 0.0049\n",
      "Epoch 85/100\n",
      "11/11 [==============================] - 0s 17ms/step - loss: 0.0041\n",
      "Epoch 86/100\n",
      "11/11 [==============================] - 0s 17ms/step - loss: 0.0058\n",
      "Epoch 87/100\n",
      "11/11 [==============================] - 0s 17ms/step - loss: 0.0044\n",
      "Epoch 88/100\n",
      "11/11 [==============================] - 0s 21ms/step - loss: 0.0044\n",
      "Epoch 89/100\n",
      "11/11 [==============================] - 0s 24ms/step - loss: 0.0055\n",
      "Epoch 90/100\n",
      "11/11 [==============================] - 0s 18ms/step - loss: 0.0048\n",
      "Epoch 91/100\n",
      "11/11 [==============================] - 0s 18ms/step - loss: 0.0057\n",
      "Epoch 92/100\n",
      "11/11 [==============================] - 0s 18ms/step - loss: 0.0064\n",
      "Epoch 93/100\n",
      "11/11 [==============================] - 0s 18ms/step - loss: 0.0050\n",
      "Epoch 94/100\n",
      "11/11 [==============================] - 0s 18ms/step - loss: 0.0034\n",
      "Epoch 95/100\n",
      "11/11 [==============================] - 0s 19ms/step - loss: 0.0044\n",
      "Epoch 96/100\n",
      "11/11 [==============================] - 0s 17ms/step - loss: 0.0049\n",
      "Epoch 97/100\n",
      "11/11 [==============================] - 0s 17ms/step - loss: 0.0043\n",
      "Epoch 98/100\n",
      "11/11 [==============================] - 0s 18ms/step - loss: 0.0041\n",
      "Epoch 99/100\n",
      "11/11 [==============================] - 0s 18ms/step - loss: 0.0065\n",
      "Epoch 100/100\n",
      "11/11 [==============================] - 0s 16ms/step - loss: 0.0055\n"
     ]
    },
    {
     "data": {
      "text/plain": [
       "<keras.callbacks.callbacks.History at 0x1449fc3d0>"
      ]
     },
     "execution_count": 240,
     "metadata": {},
     "output_type": "execute_result"
    }
   ],
   "source": [
    "model.fit_generator(generator,epochs=100)"
   ]
  },
  {
   "cell_type": "code",
   "execution_count": 241,
   "metadata": {},
   "outputs": [],
   "source": [
    "pred_list = []\n",
    "\n",
    "batch = train[-n_input:].reshape((1, n_input, n_features))\n",
    "\n",
    "for i in range(n_input):   \n",
    "    pred_list.append(model.predict(batch)[0]) \n",
    "    batch = np.append(batch[:,1:,:],[[pred_list[i]]],axis=1)"
   ]
  },
  {
   "cell_type": "markdown",
   "metadata": {},
   "source": [
    "Creating a dataframe out of the prediction list, which is concatenated with the original dataframe. Also, scaler.inverse_transform reverses the scaling/normalisation that we did in the beginning."
   ]
  },
  {
   "cell_type": "code",
   "execution_count": 242,
   "metadata": {},
   "outputs": [],
   "source": [
    "df_predict = pd.DataFrame(scaler.inverse_transform(pred_list),\n",
    "                          index=df[-n_input:].index, columns=['Prediction'])\n",
    "\n",
    "df_test = pd.concat([df,df_predict], axis=1)"
   ]
  },
  {
   "cell_type": "markdown",
   "metadata": {},
   "source": [
    "## Plot the predictions vs the actual values\n",
    "The red line is the predicted values for the past 12 months. Notice that is linear and horizontal. It doesn't have any up and down movements that is visible in the historical data (blue line). Let's give LSTM a break, it's extremely difficult to predict these sudden up and down changes, even when a large amount of data is available. These spikes are usually due to human actions and are very volatile.. "
   ]
  },
  {
   "cell_type": "code",
   "execution_count": 252,
   "metadata": {},
   "outputs": [
    {
     "data": {
      "image/png": "[encoded data removed]",
      "text/plain": [
       "<Figure size 1440x360 with 1 Axes>"
      ]
     },
     "metadata": {
      "needs_background": "light"
     },
     "output_type": "display_data"
    }
   ],
   "source": [
    "plt.figure(figsize=(20, 5))\n",
    "plt.plot(df_test.index, df_test['Close'])\n",
    "plt.plot(df_test.index, df_test['Prediction'], color='r')\n",
    "plt.xticks(fontsize=18)\n",
    "plt.yticks(fontsize=16)\n",
    "plt.show()"
   ]
  },
  {
   "cell_type": "markdown",
   "metadata": {},
   "source": [
    "Let's calculate the root mean squared error (RMSE)."
   ]
  },
  {
   "cell_type": "code",
   "execution_count": 244,
   "metadata": {},
   "outputs": [
    {
     "name": "stdout",
     "output_type": "stream",
     "text": [
      "rmse:  [137.39644477]\n"
     ]
    }
   ],
   "source": [
    "pred_actual_rmse = rmse(df_test.iloc[-n_input:, [0]], df_test.iloc[-n_input:, [1]])\n",
    "print(\"rmse: \", pred_actual_rmse)"
   ]
  },
  {
   "cell_type": "markdown",
   "metadata": {},
   "source": [
    "# Predict the future stock price (or try our best)\n",
    "We aim to forecast Amazon's monthly closing price for the next 12 months. The code is similar to before, except for the index being set to the future dates. \n"
   ]
  },
  {
   "cell_type": "code",
   "execution_count": 245,
   "metadata": {},
   "outputs": [],
   "source": [
    "train = df"
   ]
  },
  {
   "cell_type": "code",
   "execution_count": 246,
   "metadata": {},
   "outputs": [],
   "source": [
    "scaler.fit(train)\n",
    "train = scaler.transform(train)"
   ]
  },
  {
   "cell_type": "markdown",
   "metadata": {},
   "source": [
    "Again, we want to predict the next 12 months, hence n_input = 12"
   ]
  },
  {
   "cell_type": "code",
   "execution_count": 232,
   "metadata": {},
   "outputs": [],
   "source": [
    "n_input = 12\n",
    "n_features = 1\n",
    "generator = TimeseriesGenerator(train, train, length=n_input, batch_size=6)"
   ]
  },
  {
   "cell_type": "code",
   "execution_count": 247,
   "metadata": {},
   "outputs": [
    {
     "name": "stdout",
     "output_type": "stream",
     "text": [
      "Epoch 1/100\n",
      "11/11 [==============================] - 0s 19ms/step - loss: 0.0035\n",
      "Epoch 2/100\n",
      "11/11 [==============================] - 0s 17ms/step - loss: 0.0045\n",
      "Epoch 3/100\n",
      "11/11 [==============================] - 0s 15ms/step - loss: 0.0049\n",
      "Epoch 4/100\n",
      "11/11 [==============================] - 0s 17ms/step - loss: 0.0038\n",
      "Epoch 5/100\n",
      "11/11 [==============================] - 0s 17ms/step - loss: 0.0045\n",
      "Epoch 6/100\n",
      "11/11 [==============================] - 0s 20ms/step - loss: 0.0055\n",
      "Epoch 7/100\n",
      "11/11 [==============================] - 0s 20ms/step - loss: 0.0058\n",
      "Epoch 8/100\n",
      "11/11 [==============================] - 0s 16ms/step - loss: 0.0057\n",
      "Epoch 9/100\n",
      "11/11 [==============================] - 0s 16ms/step - loss: 0.0065\n",
      "Epoch 10/100\n",
      "11/11 [==============================] - 0s 16ms/step - loss: 0.0054\n",
      "Epoch 11/100\n",
      "11/11 [==============================] - 0s 16ms/step - loss: 0.0040\n",
      "Epoch 12/100\n",
      "11/11 [==============================] - 0s 16ms/step - loss: 0.0064\n",
      "Epoch 13/100\n",
      "11/11 [==============================] - 0s 16ms/step - loss: 0.0066\n",
      "Epoch 14/100\n",
      "11/11 [==============================] - 0s 17ms/step - loss: 0.0056\n",
      "Epoch 15/100\n",
      "11/11 [==============================] - 0s 17ms/step - loss: 0.0056\n",
      "Epoch 16/100\n",
      "11/11 [==============================] - 0s 16ms/step - loss: 0.0048\n",
      "Epoch 17/100\n",
      "11/11 [==============================] - 0s 18ms/step - loss: 0.0056\n",
      "Epoch 18/100\n",
      "11/11 [==============================] - 0s 18ms/step - loss: 0.0042\n",
      "Epoch 19/100\n",
      "11/11 [==============================] - 0s 18ms/step - loss: 0.0046\n",
      "Epoch 20/100\n",
      "11/11 [==============================] - 0s 18ms/step - loss: 0.0037\n",
      "Epoch 21/100\n",
      "11/11 [==============================] - 0s 17ms/step - loss: 0.0059\n",
      "Epoch 22/100\n",
      "11/11 [==============================] - 0s 17ms/step - loss: 0.0062\n",
      "Epoch 23/100\n",
      "11/11 [==============================] - 0s 18ms/step - loss: 0.0040\n",
      "Epoch 24/100\n",
      "11/11 [==============================] - 0s 17ms/step - loss: 0.0051\n",
      "Epoch 25/100\n",
      "11/11 [==============================] - 0s 17ms/step - loss: 0.0070\n",
      "Epoch 26/100\n",
      "11/11 [==============================] - 0s 19ms/step - loss: 0.0040\n",
      "Epoch 27/100\n",
      "11/11 [==============================] - 0s 19ms/step - loss: 0.0039\n",
      "Epoch 28/100\n",
      "11/11 [==============================] - 0s 20ms/step - loss: 0.0043\n",
      "Epoch 29/100\n",
      "11/11 [==============================] - 0s 19ms/step - loss: 0.0048\n",
      "Epoch 30/100\n",
      "11/11 [==============================] - 0s 17ms/step - loss: 0.0041\n",
      "Epoch 31/100\n",
      "11/11 [==============================] - 0s 17ms/step - loss: 0.0068\n",
      "Epoch 32/100\n",
      "11/11 [==============================] - 0s 17ms/step - loss: 0.0044\n",
      "Epoch 33/100\n",
      "11/11 [==============================] - 0s 17ms/step - loss: 0.0055\n",
      "Epoch 34/100\n",
      "11/11 [==============================] - 0s 17ms/step - loss: 0.0052\n",
      "Epoch 35/100\n",
      "11/11 [==============================] - 0s 17ms/step - loss: 0.0029\n",
      "Epoch 36/100\n",
      "11/11 [==============================] - 0s 18ms/step - loss: 0.0050\n",
      "Epoch 37/100\n",
      "11/11 [==============================] - 0s 18ms/step - loss: 0.0057\n",
      "Epoch 38/100\n",
      "11/11 [==============================] - 0s 17ms/step - loss: 0.0044\n",
      "Epoch 39/100\n",
      "11/11 [==============================] - 0s 17ms/step - loss: 0.0050\n",
      "Epoch 40/100\n",
      "11/11 [==============================] - 0s 17ms/step - loss: 0.0042\n",
      "Epoch 41/100\n",
      "11/11 [==============================] - 0s 17ms/step - loss: 0.0042\n",
      "Epoch 42/100\n",
      "11/11 [==============================] - 0s 18ms/step - loss: 0.0036\n",
      "Epoch 43/100\n",
      "11/11 [==============================] - 0s 17ms/step - loss: 0.0059\n",
      "Epoch 44/100\n",
      "11/11 [==============================] - 0s 17ms/step - loss: 0.0045\n",
      "Epoch 45/100\n",
      "11/11 [==============================] - 0s 17ms/step - loss: 0.0044\n",
      "Epoch 46/100\n",
      "11/11 [==============================] - 0s 17ms/step - loss: 0.0052\n",
      "Epoch 47/100\n",
      "11/11 [==============================] - 0s 18ms/step - loss: 0.0044\n",
      "Epoch 48/100\n",
      "11/11 [==============================] - 0s 18ms/step - loss: 0.0036\n",
      "Epoch 49/100\n",
      "11/11 [==============================] - 0s 17ms/step - loss: 0.0034\n",
      "Epoch 50/100\n",
      "11/11 [==============================] - 0s 17ms/step - loss: 0.0049\n",
      "Epoch 51/100\n",
      "11/11 [==============================] - 0s 18ms/step - loss: 0.0040\n",
      "Epoch 52/100\n",
      "11/11 [==============================] - 0s 18ms/step - loss: 0.0042\n",
      "Epoch 53/100\n",
      "11/11 [==============================] - 0s 17ms/step - loss: 0.0059\n",
      "Epoch 54/100\n",
      "11/11 [==============================] - 0s 17ms/step - loss: 0.0047\n",
      "Epoch 55/100\n",
      "11/11 [==============================] - 0s 18ms/step - loss: 0.0067\n",
      "Epoch 56/100\n",
      "11/11 [==============================] - 0s 18ms/step - loss: 0.0046\n",
      "Epoch 57/100\n",
      "11/11 [==============================] - 0s 17ms/step - loss: 0.0044\n",
      "Epoch 58/100\n",
      "11/11 [==============================] - 0s 17ms/step - loss: 0.0044\n",
      "Epoch 59/100\n",
      "11/11 [==============================] - 0s 17ms/step - loss: 0.0033\n",
      "Epoch 60/100\n",
      "11/11 [==============================] - 0s 16ms/step - loss: 0.0043\n",
      "Epoch 61/100\n",
      "11/11 [==============================] - 0s 17ms/step - loss: 0.0046\n",
      "Epoch 62/100\n",
      "11/11 [==============================] - 0s 18ms/step - loss: 0.0034\n",
      "Epoch 63/100\n",
      "11/11 [==============================] - 0s 17ms/step - loss: 0.0065\n",
      "Epoch 64/100\n",
      "11/11 [==============================] - 0s 17ms/step - loss: 0.0062\n",
      "Epoch 65/100\n",
      "11/11 [==============================] - 0s 17ms/step - loss: 0.0073\n",
      "Epoch 66/100\n",
      "11/11 [==============================] - 0s 17ms/step - loss: 0.0071\n",
      "Epoch 67/100\n",
      "11/11 [==============================] - 0s 17ms/step - loss: 0.0080\n",
      "Epoch 68/100\n",
      "11/11 [==============================] - 0s 17ms/step - loss: 0.0060\n",
      "Epoch 69/100\n",
      "11/11 [==============================] - 0s 17ms/step - loss: 0.0045\n",
      "Epoch 70/100\n",
      "11/11 [==============================] - 0s 17ms/step - loss: 0.0047\n",
      "Epoch 71/100\n",
      "11/11 [==============================] - 0s 17ms/step - loss: 0.0031\n",
      "Epoch 72/100\n",
      "11/11 [==============================] - 0s 18ms/step - loss: 0.0036\n",
      "Epoch 73/100\n",
      "11/11 [==============================] - 0s 17ms/step - loss: 0.0046\n",
      "Epoch 74/100\n",
      "11/11 [==============================] - 0s 17ms/step - loss: 0.0049\n",
      "Epoch 75/100\n",
      "11/11 [==============================] - 0s 17ms/step - loss: 0.0054\n",
      "Epoch 76/100\n",
      "11/11 [==============================] - 0s 18ms/step - loss: 0.0046\n",
      "Epoch 77/100\n",
      "11/11 [==============================] - 0s 19ms/step - loss: 0.0050\n",
      "Epoch 78/100\n",
      "11/11 [==============================] - 0s 18ms/step - loss: 0.0043\n",
      "Epoch 79/100\n",
      "11/11 [==============================] - 0s 19ms/step - loss: 0.0059\n",
      "Epoch 80/100\n",
      "11/11 [==============================] - 0s 18ms/step - loss: 0.0048\n",
      "Epoch 81/100\n",
      "11/11 [==============================] - 0s 17ms/step - loss: 0.0044\n",
      "Epoch 82/100\n",
      "11/11 [==============================] - 0s 16ms/step - loss: 0.0027\n",
      "Epoch 83/100\n",
      "11/11 [==============================] - 0s 17ms/step - loss: 0.0076\n",
      "Epoch 84/100\n",
      "11/11 [==============================] - 0s 17ms/step - loss: 0.0045\n",
      "Epoch 85/100\n",
      "11/11 [==============================] - 0s 17ms/step - loss: 0.0043\n",
      "Epoch 86/100\n",
      "11/11 [==============================] - 0s 17ms/step - loss: 0.0070\n",
      "Epoch 87/100\n",
      "11/11 [==============================] - 0s 18ms/step - loss: 0.0035\n",
      "Epoch 88/100\n",
      "11/11 [==============================] - 0s 18ms/step - loss: 0.0045\n",
      "Epoch 89/100\n",
      "11/11 [==============================] - 0s 18ms/step - loss: 0.0033\n",
      "Epoch 90/100\n",
      "11/11 [==============================] - 0s 18ms/step - loss: 0.0052\n",
      "Epoch 91/100\n",
      "11/11 [==============================] - 0s 17ms/step - loss: 0.0050\n",
      "Epoch 92/100\n",
      "11/11 [==============================] - 0s 16ms/step - loss: 0.0029\n",
      "Epoch 93/100\n",
      "11/11 [==============================] - 0s 17ms/step - loss: 0.0030\n",
      "Epoch 94/100\n",
      "11/11 [==============================] - 0s 18ms/step - loss: 0.0041\n",
      "Epoch 95/100\n",
      "11/11 [==============================] - 0s 18ms/step - loss: 0.0048\n",
      "Epoch 96/100\n",
      "11/11 [==============================] - 0s 18ms/step - loss: 0.0024\n",
      "Epoch 97/100\n",
      "11/11 [==============================] - 0s 17ms/step - loss: 0.0038\n",
      "Epoch 98/100\n",
      "11/11 [==============================] - 0s 17ms/step - loss: 0.0052\n",
      "Epoch 99/100\n",
      "11/11 [==============================] - 0s 16ms/step - loss: 0.0028\n",
      "Epoch 100/100\n",
      "11/11 [==============================] - 0s 17ms/step - loss: 0.0042\n"
     ]
    },
    {
     "data": {
      "text/plain": [
       "<keras.callbacks.callbacks.History at 0x14475bad0>"
      ]
     },
     "execution_count": 247,
     "metadata": {},
     "output_type": "execute_result"
    }
   ],
   "source": [
    "model.fit_generator(generator,epochs=100)"
   ]
  },
  {
   "cell_type": "code",
   "execution_count": 248,
   "metadata": {},
   "outputs": [],
   "source": [
    "pred_list = []\n",
    "\n",
    "batch = train[-n_input:].reshape((1, n_input, n_features))\n",
    "\n",
    "for i in range(n_input):   \n",
    "    pred_list.append(model.predict(batch)[0]) \n",
    "    batch = np.append(batch[:,1:,:],[[pred_list[i]]],axis=1)"
   ]
  },
  {
   "cell_type": "markdown",
   "metadata": {},
   "source": [
    "In the cell below we just create our new dates for the next 12 months."
   ]
  },
  {
   "cell_type": "code",
   "execution_count": 249,
   "metadata": {},
   "outputs": [],
   "source": [
    "from pandas.tseries.offsets import DateOffset\n",
    "add_dates = [df.index[-1] + DateOffset(months=x) for x in range(0,13) ]\n",
    "future_dates = pd.DataFrame(index=add_dates[1:],columns=df.columns)"
   ]
  },
  {
   "cell_type": "code",
   "execution_count": 250,
   "metadata": {},
   "outputs": [],
   "source": [
    "df_predict = pd.DataFrame(scaler.inverse_transform(pred_list),\n",
    "                          index=future_dates[-n_input:].index, columns=['Prediction'])\n",
    "\n",
    "df_proj = pd.concat([df,df_predict], axis=1)"
   ]
  },
  {
   "cell_type": "markdown",
   "metadata": {},
   "source": [
    "## Plot of the forecasted stock price's\n",
    "The red line is the forecasted stock price."
   ]
  },
  {
   "cell_type": "code",
   "execution_count": 251,
   "metadata": {},
   "outputs": [
    {
     "data": {
      "image/png": "[encoded data removed]",
      "text/plain": [
       "<Figure size 1440x360 with 1 Axes>"
      ]
     },
     "metadata": {
      "needs_background": "light"
     },
     "output_type": "display_data"
    }
   ],
   "source": [
    "plt.figure(figsize=(20, 5))\n",
    "plt.plot(df_proj.index, df_proj['Close'])\n",
    "plt.plot(df_proj.index, df_proj['Prediction'], color='r')\n",
    "plt.xticks(fontsize=18)\n",
    "plt.yticks(fontsize=16)\n",
    "plt.show()"
   ]
  },
  {
   "cell_type": "markdown",
   "metadata": {},
   "source": [
    "Finally, we output our predictions. "
   ]
  },
  {
   "cell_type": "code",
   "execution_count": 253,
   "metadata": {},
   "outputs": [
    {
     "data": {
      "text/html": [
       "<div>\n",
       "<style scoped>\n",
       "    .dataframe tbody tr th:only-of-type {\n",
       "        vertical-align: middle;\n",
       "    }\n",
       "\n",
       "    .dataframe tbody tr th {\n",
       "        vertical-align: top;\n",
       "    }\n",
       "\n",
       "    .dataframe thead th {\n",
       "        text-align: right;\n",
       "    }\n",
       "</style>\n",
       "<table border=\"1\" class=\"dataframe\">\n",
       "  <thead>\n",
       "    <tr style=\"text-align: right;\">\n",
       "      <th></th>\n",
       "      <th>Close</th>\n",
       "      <th>Prediction</th>\n",
       "    </tr>\n",
       "  </thead>\n",
       "  <tbody>\n",
       "    <tr>\n",
       "      <td>2020-10-07</td>\n",
       "      <td>NaN</td>\n",
       "      <td>2109.031105</td>\n",
       "    </tr>\n",
       "    <tr>\n",
       "      <td>2020-11-07</td>\n",
       "      <td>NaN</td>\n",
       "      <td>2116.308735</td>\n",
       "    </tr>\n",
       "    <tr>\n",
       "      <td>2020-12-07</td>\n",
       "      <td>NaN</td>\n",
       "      <td>2122.868992</td>\n",
       "    </tr>\n",
       "    <tr>\n",
       "      <td>2021-01-07</td>\n",
       "      <td>NaN</td>\n",
       "      <td>2127.627565</td>\n",
       "    </tr>\n",
       "    <tr>\n",
       "      <td>2021-02-07</td>\n",
       "      <td>NaN</td>\n",
       "      <td>2131.197711</td>\n",
       "    </tr>\n",
       "  </tbody>\n",
       "</table>\n",
       "</div>"
      ],
      "text/plain": [
       "            Close   Prediction\n",
       "2020-10-07    NaN  2109.031105\n",
       "2020-11-07    NaN  2116.308735\n",
       "2020-12-07    NaN  2122.868992\n",
       "2021-01-07    NaN  2127.627565\n",
       "2021-02-07    NaN  2131.197711"
      ]
     },
     "execution_count": 253,
     "metadata": {},
     "output_type": "execute_result"
    }
   ],
   "source": [
    "df_proj.tail()"
   ]
  },
  {
   "cell_type": "markdown",
   "metadata": {},
   "source": [
    "Now that you have predicted the future, it's time to go to the bank and cash that cheque.\n",
    "Wait ..before you do that, you can see that the predictions are fairly linear but going with the overall upwards trend. It's completely possible for the stock price to go down the next month due to some unknown reason ( Breaking news: Jeff Bezos retires to live in Thailand and opens a bubble tea store). But like I said, if we could predict the stock market with certainty, we'd all be rich, but unfortunately it's not that easy. Even with the power of machine learning it has been proven to be a daunting task. \n",
    "Side note: Anyone know those forex traders with the chrome cars? They seem to have the secret formula .."
   ]
  },
  {
   "cell_type": "markdown",
   "metadata": {},
   "source": [
    "### References \n",
    "A lot of credit must be given to Ian Falton\n",
    "\n",
    "https://medium.com/swlh/a-quick-example-of-time-series-forecasting-using-long-short-term-memory-lstm-networks-ddc10dc1467d"
   ]
  },
  {
   "cell_type": "markdown",
   "metadata": {},
   "source": [
    "Notebook completed by Luka Beverin"
   ]
  }
 ],
 "metadata": {
  "kernelspec": {
   "display_name": "Python 3",
   "language": "python",
   "name": "python3"
  },
  "language_info": {
   "codemirror_mode": {
    "name": "ipython",
    "version": 3
   },
   "file_extension": ".py",
   "mimetype": "text/x-python",
   "name": "python",
   "nbconvert_exporter": "python",
   "pygments_lexer": "ipython3",
   "version": "3.7.4"
  }
 },
 "nbformat": 4,
 "nbformat_minor": 2
}
