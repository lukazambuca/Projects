{
 "cells": [
  {
   "cell_type": "markdown",
   "metadata": {},
   "source": [
    "# GEV Classifier \n",
    "\n",
    "The algorithm is described in a [paper](https://arxiv.org/pdf/1808.09902.pdf) by Edoardo Vignotto and Sebastian Engelke titled **\"Extreme Value Theory for Open Set Classification – GPD and GEV Classifiers\"**\n",
    "\n",
    "The goal is to develop algorithms able to distinguish between known and unknown new data."
   ]
  },
  {
   "cell_type": "markdown",
   "metadata": {},
   "source": [
    "**Import libraries**"
   ]
  },
  {
   "cell_type": "code",
   "execution_count": 2,
   "metadata": {},
   "outputs": [],
   "source": [
    "import numpy as np\n",
    "import matplotlib.pyplot as plt\n",
    "from sklearn.neighbors import NearestNeighbors\n",
    "import scipy.stats as stats"
   ]
  },
  {
   "cell_type": "markdown",
   "metadata": {},
   "source": [
    "**Simulated Data**"
   ]
  },
  {
   "cell_type": "markdown",
   "metadata": {},
   "source": [
    "Simulate the known and unknown data sets from a bivariate normal distribution with different parameters."
   ]
  },
  {
   "cell_type": "code",
   "execution_count": 154,
   "metadata": {},
   "outputs": [],
   "source": [
    "n = 1000\n",
    "original=np.random.multivariate_normal([-5, -5], [[1, 0], [0, 1]], n)\n",
    "new=np.random.multivariate_normal([-8, -8], [[1, 0], [0, 1]], 5)"
   ]
  },
  {
   "cell_type": "markdown",
   "metadata": {},
   "source": [
    "View the two data sets."
   ]
  },
  {
   "cell_type": "code",
   "execution_count": 155,
   "metadata": {},
   "outputs": [
    {
     "data": {
      "text/plain": [
       "<Figure size 720x504 with 0 Axes>"
      ]
     },
     "metadata": {},
     "output_type": "display_data"
    },
    {
     "data": {
      "image/png": "[encoded data removed]",
      "text/plain": [
       "<Figure size 432x288 with 1 Axes>"
      ]
     },
     "metadata": {
      "needs_background": "light"
     },
     "output_type": "display_data"
    }
   ],
   "source": [
    "plt.figure(figsize=(10, 7))\n",
    "fig, ax = plt.subplots()\n",
    "\n",
    "plt.xlim([-20, 5])\n",
    "plt.ylim([-20, 10])\n",
    "\n",
    "#circle = plt.Circle((new[:, 0],new[:, 1] ), radius = 7, color='r', fill=False)\n",
    "\n",
    "plt.scatter(original[:, 0], original[:, 1], alpha=0.5, label='Original')\n",
    "plt.scatter(new[:, 0], new[:, 1], alpha=1, label='New')\n",
    "\n",
    "#ax.set_aspect('equal', adjustable='datalim')\n",
    "#ax.add_patch(circle)\n",
    "\n",
    "plt.legend()\n",
    "plt.show()"
   ]
  },
  {
   "cell_type": "markdown",
   "metadata": {},
   "source": [
    "## Algorithm"
   ]
  },
  {
   "cell_type": "markdown",
   "metadata": {},
   "source": [
    "It was [shown](https://arxiv.org/pdf/1506.06112.pdf) (Thm 2.) that -D = max(-|x-y|) can be fit with the Reversed Weibull distribution. The reversed Weibull is a distribution family that is a part of the extreme value distributions and has an upper bound (supported from negative infinity to zero).\n",
    "\n",
    "\n",
    "This implies that we can fit D = min(|x-y|) (changing variables back to D from -D) to the Weibull distribution.\n",
    "\n",
    "**1)** For all i in n, we compute the distance between the training point and the nearest training point to it. This is denoted by D = min|x_i - x_j|. Remember that the distance between a point and itself is zero, and these distances need to be disregarded. We are using a fast neighbour search, which requires to compute only O(n log n) distances.\n",
    "\n",
    "**2)** The distances -D = max(-|x_i-x_j|) are bounded above by zero,  and we can fit a reversed Weibull dist to these maximum negated distances. Alternatively, we can also fit a \"Normal\" Weibull to the distances D. \n",
    "\n",
    "**3)** When a new point arises (x_0), we want to mark the point as either known or unknown. We consider the statistic -d = max(-|x_i-x_0|)  (or d = min|x_i - x_j| in our algorithm)to perform the hypothesis test:\n",
    "\n",
    "- H_0: x_0 is known\n",
    "- H_1: x_0 is unkown\n",
    "\n",
    "**4)** Under the null hypothesis, d is a approzimately a sample of the distribution D (in the same way -d is for -D). We expect the quantity P(D < d) and P(-D < -d) to not be too small. \n",
    "\n",
    "**5)** Fix a level alpha > 0 for the type 1 error (rejection of a true null hypothesis i.e saying x_0 is unknown when it is infact known). A higher significance level means a larger probability or rejecting the null hypothesis when its true. \n",
    "\n",
    "**6)** Given that we have an estimated distribution D from the training points, we reject the null hypothesis if D(d) < alpha. In other words, if the smallest distance of the new point to a training point is too large, we mark it unknown. \n"
   ]
  },
  {
   "cell_type": "markdown",
   "metadata": {},
   "source": [
    "### Training function"
   ]
  },
  {
   "cell_type": "code",
   "execution_count": 162,
   "metadata": {},
   "outputs": [],
   "source": [
    "def GEVC_Train(data, k):\n",
    "    nbrs = NearestNeighbors(n_neighbors=k, algorithm='ball_tree').fit(data)\n",
    "    distances, indices = nbrs.kneighbors(data)\n",
    "    distances = np.array(distances)\n",
    "    distances = distances[:,1:]\n",
    "    distances = distances.tolist()\n",
    "    distances = [item for items in distances for item in items]\n",
    "    params = stats.weibull_min.fit(distances)\n",
    "    #Returns: c (equal to k), loc(usually 0) and scale (lambda)\n",
    "    return params        "
   ]
  },
  {
   "cell_type": "markdown",
   "metadata": {},
   "source": [
    "### Test Function"
   ]
  },
  {
   "cell_type": "code",
   "execution_count": 174,
   "metadata": {},
   "outputs": [],
   "source": [
    "def GEVC_Test(train, test, params, prob = False, alpha=0.01):\n",
    "    nbrs = NearestNeighbors(n_neighbors=1, algorithm='ball_tree').fit(train)\n",
    "    new_dist, indices = nbrs.kneighbors(test)\n",
    "    new_dist = np.array(new_dist)\n",
    "    new_dist = new_dist.tolist()\n",
    "    new_dist = [item for items in new_dist for item in items]\n",
    "    p = 1 - stats.weibull_min.cdf(new_dist, *params)\n",
    "    #Probability point is unknown = 1 - p\n",
    "    \n",
    "    list = []\n",
    "    \n",
    "    for j in p:\n",
    "        if j < alpha:\n",
    "            ans = \"Unknown\"\n",
    "            list.append(ans)\n",
    "        else:\n",
    "            ans = \"Known\"\n",
    "            list.append(ans)\n",
    "    return out"
   ]
  },
  {
   "cell_type": "markdown",
   "metadata": {},
   "source": [
    "Call the training function"
   ]
  },
  {
   "cell_type": "code",
   "execution_count": 163,
   "metadata": {},
   "outputs": [
    {
     "data": {
      "text/plain": [
       "(1.18679883075094, 0.001948385452907818, 0.07652193970511839)"
      ]
     },
     "execution_count": 163,
     "metadata": {},
     "output_type": "execute_result"
    }
   ],
   "source": [
    "GEVC_Train(original, 2)"
   ]
  },
  {
   "cell_type": "markdown",
   "metadata": {},
   "source": [
    "Call the test function"
   ]
  },
  {
   "cell_type": "code",
   "execution_count": 175,
   "metadata": {},
   "outputs": [
    {
     "data": {
      "text/plain": [
       "['Unknown', 'Unknown', 'Unknown', 'Unknown', 'Unknown']"
      ]
     },
     "execution_count": 175,
     "metadata": {},
     "output_type": "execute_result"
    }
   ],
   "source": [
    "GEVC_Test(original, new, params, alpha = 0.1)"
   ]
  },
  {
   "cell_type": "markdown",
   "metadata": {},
   "source": [
    "## Resources \n",
    "\n",
    "\n",
    "[Meta-Recognition: The Theory and Practice\n",
    "of Recognition Score Analysis](https://www.researchgate.net/publication/50596071_Meta-Recognition_The_Theory_and_Practice_of_Recognition_Score_Analysis)"
   ]
  }
 ],
 "metadata": {
  "kernelspec": {
   "display_name": "Python 3",
   "language": "python",
   "name": "python3"
  },
  "language_info": {
   "codemirror_mode": {
    "name": "ipython",
    "version": 3
   },
   "file_extension": ".py",
   "mimetype": "text/x-python",
   "name": "python",
   "nbconvert_exporter": "python",
   "pygments_lexer": "ipython3",
   "version": "3.7.6"
  }
 },
 "nbformat": 4,
 "nbformat_minor": 4
}
